{
 "cells": [
  {
   "cell_type": "code",
   "execution_count": null,
   "metadata": {},
   "outputs": [],
   "source": [
    "from Src.pre_processing import load_data, split, to_tensor, to_labels \n",
    "from Src.Sentan_Model import Sentan_simple\n",
    "from Src.Dias_Model import Dias_Model\n",
    "from Src.pre_processing import split, to_tensor\n",
    "\n",
    "import torch\n",
    "from sklearn.model_selection import train_test_split\n",
    "from torch.optim import Adam\n",
    "from torch import nn\n",
    "\n",
    "from torchmetrics import F1Score, Recall, Precision, Accuracy\n",
    "import wandb\n",
    "\n",
    "\n",
    "device = torch.device('cuda' if torch.cuda.is_available() else 'cpu')"
   ]
  },
  {
   "cell_type": "markdown",
   "metadata": {},
   "source": [
    "### kfold training"
   ]
  },
  {
   "cell_type": "code",
   "execution_count": null,
   "metadata": {},
   "outputs": [],
   "source": [
    "def train_kfold(model_builder, X, y, n_folds, optimizer_builder, lossFn, device='cpu', lr=1e-3, epochs=100):\n",
    "    \n",
    "    f1 = F1Score(num_classes=8)\n",
    "    recall = Recall(average='macro', num_classes=8)\n",
    "    precision = Precision(average='macro', num_classes=8)\n",
    "    accuracy = Accuracy()\n",
    "\n",
    "    # K-folds\n",
    "    for train_idx, test_idx in split(X, y, splits=n_folds):\n",
    "\n",
    "\n",
    "        # Activación del entorno\n",
    "        wandb.init(project=\"Clasificador de sentimientos\", entity=\"panas\")\n",
    "\n",
    "        model = model_builder().to(device)\n",
    "        optimizer = optimizer_builder(\n",
    "            model.parameters(), lr=0.001, weight_decay=0.03)\n",
    "\n",
    "        # Fold Data\n",
    "        x_train = X[train_idx]\n",
    "        y_train = y[train_idx]\n",
    "\n",
    "        x_test = X[test_idx]\n",
    "        y_test = y[test_idx]\n",
    "\n",
    "        x_train, y_train = to_tensor(x_train, y_train)\n",
    "        x_test, y_test = to_tensor(x_test, y_test)\n",
    "\n",
    "        # Train loop\n",
    "        model.train()\n",
    "        for epoch in range(0, epochs):\n",
    "\n",
    "            # Training\n",
    "            x_train = x_train.to(device)\n",
    "            y_train = y_train.to(device)\n",
    "\n",
    "            optimizer.zero_grad()\n",
    "\n",
    "            pred = model(x_train)\n",
    "\n",
    "            loss = lossFn(pred, y_train)\n",
    "            loss.backward()\n",
    "            optimizer.step()\n",
    "\n",
    "            train_accuracy = accuracy(pred, y_train)\n",
    "\n",
    "        # Validation\n",
    "            with torch.no_grad():\n",
    "\n",
    "                x_test = x_test.to(device)\n",
    "                y_test = y_test.to(device)\n",
    "                pred = model(x_test)\n",
    "\n",
    "                wandb.log({'Train Accuracy': train_accuracy, 'Train Loss': loss, 'Validation Accuracy': accuracy(\n",
    "                    pred, y_test), 'F1 Score': f1(pred, y_test), 'Recall': recall(pred, y_test), 'Precision': precision(pred, y_test)})"
   ]
  },
  {
   "cell_type": "markdown",
   "metadata": {},
   "source": [
    "## Data"
   ]
  },
  {
   "cell_type": "code",
   "execution_count": null,
   "metadata": {},
   "outputs": [],
   "source": [
    "data_path = 'Data/data.pkl'\n",
    "X, y, labels = load_data(data_path)\n",
    "\n",
    "X_train, X_test, y_train, y_test = train_test_split(X, y, test_size = 0.2, random_state = 0)"
   ]
  },
  {
   "cell_type": "markdown",
   "metadata": {},
   "source": [
    "## Configuración W&B"
   ]
  },
  {
   "cell_type": "code",
   "execution_count": null,
   "metadata": {},
   "outputs": [],
   "source": [
    "epochs = 200\n",
    "learning_rate = 1e-3\n",
    "batch_size = X_train.shape[0]\n",
    "\n",
    "\n",
    "# Configuración de entorno weights and biases\n",
    "wandb.config = {\n",
    "    \"model-name\": 'Dias model',\n",
    "    \"learning_rate\": learning_rate,\n",
    "    \"epochs\": epochs,\n",
    "    \"batch_size\": batch_size\n",
    "\n",
    "}"
   ]
  },
  {
   "cell_type": "markdown",
   "metadata": {},
   "source": [
    "## Training KFold"
   ]
  },
  {
   "cell_type": "code",
   "execution_count": null,
   "metadata": {},
   "outputs": [],
   "source": [
    "# Entrenamiento de n modelos\n",
    "models = [Dias_Model]\n",
    "folds = 10\n",
    "\n",
    "# Model loop\n",
    "for model in models:\n",
    "    \n",
    "    loss_fn = nn.CrossEntropyLoss()\n",
    "    optimizer = Adam\n",
    "\n",
    "    train_kfold(model, X, y, folds,  optimizer, loss_fn, device, learning_rate, epochs=epochs)"
   ]
  }
 ],
 "metadata": {
  "language_info": {
   "name": "python"
  },
  "orig_nbformat": 4
 },
 "nbformat": 4,
 "nbformat_minor": 2
}
