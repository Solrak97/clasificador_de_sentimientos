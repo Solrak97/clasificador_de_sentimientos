{
  "cells": [
    {
      "cell_type": "code",
      "execution_count": 19,
      "metadata": {
        "colab": {
          "base_uri": "https://localhost:8080/"
        },
        "id": "e-Js0-mpTSL1",
        "outputId": "632cbb80-7268-4ad3-c081-86d0eb25f866"
      },
      "outputs": [
        {
          "output_type": "stream",
          "name": "stdout",
          "text": [
            "Requirement already satisfied: torchsummary in /usr/local/lib/python3.7/dist-packages (1.5.1)\n"
          ]
        }
      ],
      "source": [
        "import torch.nn as nn\n",
        "import torch.nn.functional as F\n",
        "import torch.optim as optim\n",
        "\n",
        "!pip install torchsummary\n",
        "from torchsummary import summary"
      ]
    },
    {
      "cell_type": "markdown",
      "metadata": {
        "id": "PT77427uTSL3"
      },
      "source": [
        "# Modelo base propuesto por Dias Issa et al."
      ]
    },
    {
      "cell_type": "code",
      "execution_count": 20,
      "metadata": {
        "id": "2eD6AeuHTSL5"
      },
      "outputs": [],
      "source": [
        "# Las capas están basadas en el diagrama\n",
        "\n",
        "class Base(nn.Module):\n",
        "  def __init__(self):\n",
        "    super().__init__()\n",
        "\n",
        "    self.criterion = None\n",
        "    self.optimizer = None\n",
        "    self.epichs = 100\n",
        "\n",
        "    # Primera capa\n",
        "    self.conv1 = nn.Conv1d(in_channels=193, out_channels=256, kernel_size=5)\n",
        "    self.norm1 = nn.BatchNorm1d(256)\n",
        "\n",
        "    # Segunda capa\n",
        "    self.conv2 = nn.Conv1d(in_channels=256, out_channels=128, kernel_size=5)\n",
        "\n",
        "    # Tercera capa\n",
        "    self.dropout1 = nn.Dropout(p=0.1)\n",
        "\n",
        "    # Cuarta capa\n",
        "    self.norm2 = nn.BatchNorm1d(128)\n",
        "    self.pool1 = nn.MaxPool1d(kernel_size=8)\n",
        "\n",
        "    # Quinta capa\n",
        "    self.conv3 = nn.Conv1d(in_channels=128, out_channels=128, kernel_size=5)\n",
        "\n",
        "    # Sexta capa\n",
        "    self.conv4 = nn.Conv1d(in_channels=128, out_channels=128, kernel_size=5)\n",
        "\n",
        "    # Septima capa\n",
        "    self.conv5 = nn.Conv1d(in_channels=128, out_channels=128, kernel_size=5)\n",
        "    self.norm3 = nn.BatchNorm1d(128)\n",
        "\n",
        "    # Octava capa\n",
        "    self.dropout2 = nn.Dropout(p=0.2)\n",
        "\n",
        "    # Novena capa\n",
        "    self.conv6 = nn.Conv1d(in_channels=128, out_channels=128, kernel_size=5)\n",
        "\n",
        "    # Decima capa\n",
        "    self.flatten = nn.Flatten(start_dim=128, end_dim=3072)\n",
        "\n",
        "    # Undecima capa\n",
        "    self.dropout3 = nn.Dropout(p=0.2)\n",
        "\n",
        "    # Capa de clasificación\n",
        "    self.dense1 = nn.Linear(in_features=3072, out_features=7)\n",
        "    self.norm4 = nn.BatchNorm1d(num_features=7)\n",
        "    self.pred = nn.Softmax()\n",
        "\n",
        "\n",
        "    def forward(self, x):\n",
        "        x = F.relu(self.norm1(self.conv1(x)))\n",
        "        x = F.relu(self.conv2(x))\n",
        "        x = self.dropout1(x)\n",
        "        x = self.pool1(self.norm1(x))\n",
        "        x = F.relu(self.conv3(x))\n",
        "        x = F.relu(self.conv4(x))\n",
        "        x = self.norm3(self.conv5(x))\n",
        "        x = self.dropout2(x)\n",
        "        x = self.conv6(x)\n",
        "        x = self.flatten(x)\n",
        "        x = self.dropout3(x)\n",
        "        x = self.pred(self.norm4(self.dense1(x)))\n",
        "        return x\n",
        "    \n",
        "\n",
        "    def build(self, criterion, optimizer, epochs):\n",
        "      self.criterion = criterion\n",
        "      self.epochs = epochs\n",
        "      self.optimizer = optimizer\n",
        "\n",
        "\n",
        "    def fit(self, X, y):\n",
        "      for epoch in range(self.epochs):  # loop over the dataset multiple times\n",
        "        running_loss = 0.0\n",
        "        for i, data in enumerate(trainloader, 0):\n",
        "          # get the inputs; data is a list of [inputs, labels]\n",
        "          inputs, labels = data\n",
        "\n",
        "          # zero the parameter gradients\n",
        "          self.optimizer.zero_grad()\n",
        "\n",
        "          # forward + backward + optimize\n",
        "          outputs = base(inputs)\n",
        "          loss = self.criterion(outputs, labels)\n",
        "          loss.backward()\n",
        "          self.optimizer.step()\n",
        "\n",
        "          # print statistics\n",
        "          running_loss += loss.item()\n",
        "          if i % 2000 == 1999:    # print every 2000 mini-batches\n",
        "            print(f'[{epoch + 1}, {i + 1:5d}] loss: {running_loss / 2000:.3f}')\n",
        "            running_loss = 0.0\n",
        "\n",
        "      print('Finished Training')\n",
        "\n",
        "  pass"
      ]
    },
    {
      "cell_type": "code",
      "source": [
        "base = Base()\n"
      ],
      "metadata": {
        "id": "2CK1M8G-UaMw"
      },
      "execution_count": 21,
      "outputs": []
    },
    {
      "cell_type": "code",
      "source": [
        "criterion = nn.CrossEntropyLoss()\n",
        "optimizer = optim.SGD(base.parameters(), lr=0.001, momentum=0.9)"
      ],
      "metadata": {
        "id": "sFxYUynukK7O"
      },
      "execution_count": null,
      "outputs": []
    },
    {
      "cell_type": "code",
      "source": [
        ""
      ],
      "metadata": {
        "id": "QokdRo9IkOYg"
      },
      "execution_count": null,
      "outputs": []
    }
  ],
  "metadata": {
    "language_info": {
      "name": "python"
    },
    "orig_nbformat": 4,
    "colab": {
      "name": "modelo_base.ipynb",
      "provenance": []
    },
    "kernelspec": {
      "name": "python3",
      "display_name": "Python 3"
    }
  },
  "nbformat": 4,
  "nbformat_minor": 0
}