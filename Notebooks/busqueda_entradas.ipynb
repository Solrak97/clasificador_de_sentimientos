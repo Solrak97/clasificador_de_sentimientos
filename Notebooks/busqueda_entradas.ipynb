{
  "cells": [
    {
      "cell_type": "markdown",
      "metadata": {
        "id": "E8YdYrT9HrDK"
      },
      "source": [
        "# Busqueda de entradas para el modelo base propuesto por Dias Issa et al.\n",
        "El modelo base cuenta con una entrada de 193 nodos, por lo que es necesario que cada entrada de datos tenga exactamente 193 variables, eso a partir de las ya conocidas caracteristicas \n",
        "\n",
        "* Chromagram\n",
        "* Contrast\n",
        "* Mel coeficent\n",
        "* Mel frequency\n",
        "* Tonnetz"
      ]
    },
    {
      "cell_type": "markdown",
      "source": [
        "### Descarga de los datos desde Kaggle hasta el notebook."
      ],
      "metadata": {
        "id": "FB9TIer0KDXV"
      }
    },
    {
      "cell_type": "code",
      "execution_count": 1,
      "metadata": {
        "id": "xj4nwWzWHrDV"
      },
      "outputs": [],
      "source": [
        "%%capture\n",
        "! pip install kaggle wavio pydub keras-metrics\n",
        "! rm -rf *\n",
        "! mkdir ~/.kaggle\n",
        "! curl https://raw.githubusercontent.com/Solrak97/clasificador_de_sentimientos/main/kaggle.json > kaggle.json\n",
        "! cp kaggle.json ~/.kaggle/\n",
        "! chmod 600 ~/.kaggle/kaggle.json\n",
        "! kaggle datasets download uwrfkaggler/ravdess-emotional-speech-audio\n",
        "! unzip ravdess-emotional-speech-audio.zip\n",
        "\n",
        "import soundfile\n",
        "import numpy as np\n",
        "import librosa\n",
        "import glob\n",
        "import os\n",
        "import pickle\n",
        "from pydub import AudioSegment\n",
        "import seaborn as sns\n",
        "from matplotlib import pyplot as plt"
      ]
    },
    {
      "cell_type": "markdown",
      "source": [
        "### Algoritmo de extracción de datos"
      ],
      "metadata": {
        "id": "qA9jS5ZnY6tt"
      }
    },
    {
      "cell_type": "code",
      "source": [
        "def extract_feature(file_name, **kwargs):\n",
        "    mfcc = kwargs.get(\"mfcc\")\n",
        "    chroma = kwargs.get(\"chroma\")\n",
        "    mel = kwargs.get(\"mel\")\n",
        "    contrast = kwargs.get(\"contrast\")\n",
        "    tonnetz = kwargs.get(\"tonnetz\") \n",
        "\n",
        "    with soundfile.SoundFile(file_name) as sound_file:\n",
        "        X = sound_file.read(dtype=\"float32\")\n",
        "        sample_rate = sound_file.samplerate\n",
        "\n",
        "        if chroma or contrast:\n",
        "            stft = np.abs(librosa.stft(X))\n",
        "        result = np.array([])\n",
        "      \n",
        "        if mfcc:\n",
        "            mfccs = np.mean(librosa.feature.mfcc(y=X, sr=sample_rate, n_mfcc=84).T, axis=0)\n",
        "            result = np.hstack((result, mfccs))\n",
        "           \n",
        "        if chroma:\n",
        "            chroma = np.mean(librosa.feature.chroma_stft(S=stft, sr=sample_rate).T,axis=0)\n",
        "            result = np.hstack((result, chroma))\n",
        "           \n",
        "        if mel:\n",
        "            mel = np.mean(librosa.feature.melspectrogram(X, sr=sample_rate, n_mels = 84).T,axis=0)\n",
        "            result = np.hstack((result, mel))\n",
        "           \n",
        "        if contrast:\n",
        "            contrast = np.mean(librosa.feature.spectral_contrast(S=stft, sr=sample_rate).T,axis=0)\n",
        "            result = np.hstack((result, contrast))\n",
        "           \n",
        "        if tonnetz:\n",
        "            tonnetz = np.mean(librosa.feature.tonnetz(y=librosa.effects.harmonic(X), sr=sample_rate).T,axis=0)\n",
        "            result = np.hstack((result, tonnetz))\n",
        "\n",
        "        print(f'''\n",
        "        mfcc shape:       {mfccs.shape}\n",
        "        chroma shape:     {chroma.shape}\n",
        "        mel shape:        {mel.shape}\n",
        "        contrast shape:   {contrast.shape}\n",
        "        tonnetz shape:    {tonnetz.shape}\n",
        "\n",
        "        feature shape:    {result.shape}\n",
        "        ''')\n",
        "           \n",
        "    return result\n",
        "  "
      ],
      "metadata": {
        "id": "JRDBB79PY-Xx"
      },
      "execution_count": 20,
      "outputs": []
    },
    {
      "cell_type": "markdown",
      "source": [
<<<<<<< HEAD
=======
        "### Tamaño de las caracteristicas y forma del vector de caracteristicas"
      ],
      "metadata": {
        "id": "97eas0q1mzaL"
      }
    },
    {
      "cell_type": "code",
      "source": [
>>>>>>> 1a738d47daf0d3737181e9d2ec94085db027f819
        "file = 'Actor_01/03-01-01-01-01-01-01.wav'\n",
        "features = extract_feature(file, mfcc=True, \n",
        "                          chroma=True, mel=True, \n",
        "                          contrast=True, tonnetz=True)"
      ],
      "metadata": {
        "colab": {
          "base_uri": "https://localhost:8080/"
        },
        "id": "LdDKTRByTUOV",
        "outputId": "bb2fd8b1-09fd-444d-ea9c-6c956a5b2381"
      },
      "execution_count": 21,
      "outputs": [
        {
          "output_type": "stream",
          "name": "stdout",
          "text": [
            "\n",
            "        mfcc shape:       (84,)\n",
            "        chroma shape:     (12,)\n",
            "        mel shape:        (84,)\n",
            "        contrast shape:   (7,)\n",
            "        tonnetz shape:    (6,)\n",
            "\n",
            "        feature shape:    (193,)\n",
            "        \n"
          ]
        }
      ]
    }
  ],
  "metadata": {
    "language_info": {
      "name": "python"
    },
    "orig_nbformat": 4,
    "colab": {
      "name": "busqueda_entradas.ipynb",
      "provenance": [],
      "collapsed_sections": []
    },
    "kernelspec": {
      "name": "python3",
      "display_name": "Python 3"
    }
  },
  "nbformat": 4,
  "nbformat_minor": 0
}