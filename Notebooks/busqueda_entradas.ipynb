{
  "cells": [
    {
      "cell_type": "markdown",
      "metadata": {
        "id": "view-in-github",
        "colab_type": "text"
      },
      "source": [
        "<a href=\"https://colab.research.google.com/github/Solrak97/clasificador_de_sentimientos/blob/main/Notebooks/busqueda_entradas.ipynb\" target=\"_parent\"><img src=\"https://colab.research.google.com/assets/colab-badge.svg\" alt=\"Open In Colab\"/></a>"
      ]
    },
    {
      "cell_type": "markdown",
      "metadata": {
        "id": "E8YdYrT9HrDK"
      },
      "source": [
        "# Busqueda de entradas para el modelo base propuesto por Dias Issa et al.\n",
        "El modelo base cuenta con una entrada de 193 nodos, por lo que es necesario que cada entrada de datos tenga exactamente 193 variables, eso a partir de las ya conocidas caracteristicas \n",
        "\n",
        "* Chromagram\n",
        "* Contrast\n",
        "* Mel coeficent\n",
        "* Mel frequency\n",
        "* Tonnetz"
      ]
    },
    {
      "cell_type": "code",
      "execution_count": null,
      "metadata": {
        "id": "xj4nwWzWHrDV"
      },
      "outputs": [],
      "source": [
        "! pip install kaggle wavio pydub keras-metrics\n",
        "! mkdir ~/.kaggle\n",
        "! cp kaggle.json ~/.kaggle/\n",
        "! chmod 600 ~/.kaggle/kaggle.json\n",
        "! kaggle datasets download uwrfkaggler/ravdess-emotional-speech-audio\n",
        "! unzip ravdess-emotional-speech-audio.zip"
      ]
    }
  ],
  "metadata": {
    "language_info": {
      "name": "python"
    },
    "orig_nbformat": 4,
    "colab": {
      "name": "busqueda_entradas.ipynb",
      "provenance": [],
      "include_colab_link": true
    }
  },
  "nbformat": 4,
  "nbformat_minor": 0
}