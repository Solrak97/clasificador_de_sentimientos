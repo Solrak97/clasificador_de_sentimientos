{
 "cells": [
  {
   "cell_type": "markdown",
   "metadata": {},
   "source": [
    "# Busqueda de entradas para el modelo base propuesto por Dias Issa et al.\n",
    "El modelo base cuenta con una entrada de 193 nodos, por lo que es necesario que cada entrada de datos tenga exactamente 193 variables, eso a partir de las ya conocidas caracteristicas \n",
    "\n",
    "* Chromagram\n",
    "* Contrast\n",
    "* Mel coeficent\n",
    "* Mel frequency\n",
    "* Tonnetz"
   ]
  },
  {
   "cell_type": "code",
   "execution_count": null,
   "metadata": {},
   "outputs": [],
   "source": []
  }
 ],
 "metadata": {
  "language_info": {
   "name": "python"
  },
  "orig_nbformat": 4
 },
 "nbformat": 4,
 "nbformat_minor": 2
}
