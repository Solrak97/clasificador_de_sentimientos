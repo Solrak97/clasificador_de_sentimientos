{
  "cells": [
    {
      "cell_type": "markdown",
      "metadata": {
        "id": "view-in-github",
        "colab_type": "text"
      },
      "source": [
        "<a href=\"https://colab.research.google.com/github/Solrak97/clasificador_de_sentimientos/blob/main/Notebooks/Analisis_preliminar.ipynb\" target=\"_parent\"><img src=\"https://colab.research.google.com/assets/colab-badge.svg\" alt=\"Open In Colab\"/></a>"
      ]
    },
    {
      "cell_type": "markdown",
      "metadata": {
        "id": "HJV-TQ_UVyMr"
      },
      "source": [
        "# Analisis preeliminar de los datos"
      ]
    },
    {
      "cell_type": "markdown",
      "metadata": {
        "id": "6Ly_FJ3Wl1Gw"
      },
      "source": [
        "## Importación de los datos desde Kaggle"
      ]
    },
    {
      "cell_type": "code",
      "execution_count": 1,
      "metadata": {
        "id": "lzLnkSbbuxN8"
      },
      "outputs": [],
      "source": [
        "%%capture\n",
        "! pip install kaggle wavio pydub keras-metrics\n",
        "! rm -rf *\n",
        "! mkdir ~/.kaggle\n",
        "! curl https://raw.githubusercontent.com/Solrak97/clasificador_de_sentimientos/main/kaggle.json > kaggle.json\n",
        "! cp kaggle.json ~/.kaggle/\n",
        "! chmod 600 ~/.kaggle/kaggle.json\n",
        "! kaggle datasets download uwrfkaggler/ravdess-emotional-speech-audio\n",
        "! unzip ravdess-emotional-speech-audio.zip"
      ]
    },
    {
      "cell_type": "code",
      "execution_count": 2,
      "metadata": {
        "id": "D3DLGLOSl7VF"
      },
      "outputs": [],
      "source": [
        "import soundfile\n",
        "import numpy as np\n",
        "import librosa\n",
        "import glob\n",
        "import os\n",
        "from pydub import AudioSegment\n",
        "import seaborn as sns\n",
        "from matplotlib import pyplot as plt\n",
        "import pandas as pd"
      ]
    },
    {
      "cell_type": "markdown",
      "metadata": {
        "id": "1jtAJAd1trCH"
      },
      "source": [
        "### Transformación de los datos a las caracteristicas base del estudio Dias Issa et al.\n",
        "Se extraerá un grupo de caracteristicas para analizar, hemos notado que hay diferencias en los tamaños de los audios por lo que hemos decidido revisar como funcionan correctamente los tamaños de datos y otras de estas caracteristicas."
      ]
    },
    {
      "cell_type": "code",
      "source": [
        "INT_2_EMOTION = {\n",
        "    \"01\": \"neutral\",\n",
        "    \"02\": \"calm\",\n",
        "    \"03\": \"happy\",\n",
        "    \"04\": \"sad\",\n",
        "    \"05\": \"angry\",\n",
        "    \"06\": \"fearful\",\n",
        "    \"07\": \"disgust\",\n",
        "    \"08\": \"surprised\"\n",
        "}"
      ],
      "metadata": {
        "id": "TsMfB3lK5RLz"
      },
      "execution_count": 3,
      "outputs": []
    },
    {
      "cell_type": "code",
      "execution_count": null,
      "metadata": {
        "id": "-aJdzXuPtvlr"
      },
      "outputs": [],
      "source": [
        "name, _len, emotions, mfccs, chromas, mels, contrasts, tonnetz = [], [], [], [], [], [], [], []\n",
        "\n",
        "for file in glob.glob(\"Actor_*/*.wav\"):      \n",
        "      file_name = os.path.basename(file)\n",
        "\n",
        "      sound = AudioSegment.from_wav(file)\n",
        "      sound = sound.set_channels(1)\n",
        "      sound.export(file, format=\"wav\")\n",
        "\n",
        "      name_split = file_name.split(\"-\")\n",
        "      emotion = INT_2_EMOTION[name_split[2]]\n",
        "\n",
        "      with soundfile.SoundFile(file) as sound_file:\n",
        "        X = sound_file.read(dtype=\"float32\")\n",
        "        sample_rate = sound_file.samplerate\n",
        "        stft = np.abs(librosa.stft(X))\n",
        "        mfccs.append(np.mean(librosa.feature.mfcc(y=X, sr=sample_rate, n_mfcc=128).T, axis=0))\n",
        "        chromas.append(np.mean(librosa.feature.chroma_stft(S=stft, sr=sample_rate).T,axis=0))\n",
        "        mels.append(np.mean(librosa.feature.melspectrogram(X, sr=sample_rate).T,axis=0))\n",
        "        contrasts.append(np.mean(librosa.feature.spectral_contrast(S=stft, sr=sample_rate).T,axis=0))\n",
        "        tonnetz.append(np.mean(librosa.feature.tonnetz(y=librosa.effects.harmonic(X), sr=sample_rate).T,axis=0))\n",
        "        \n",
        "        _len.append(librosa.get_duration(y=X, sr=sample_rate))         \n",
        "\n",
        "      name.append(file_name)\n",
        "      emotions.append(emotion)\n",
        "\n",
        "data = pd.DataFrame({'File name': name, 'Emotion': emotions, 'Duration': _len,\n",
        "                        'MFCC': mfccs, 'Chroma': chromas, 'Mel': mels, 'Contrast': contrasts, 'Tonnetz': tonnetz})"
      ]
    },
    {
      "cell_type": "markdown",
      "source": [
        "## Transformación de los datos utilizando PCA"
      ],
      "metadata": {
        "id": "t91rBCyh9hZj"
      }
    },
    {
      "cell_type": "code",
      "source": [
        "from sklearn.decomposition import PCA\n",
        "\n",
        "X = data.drop(cols='Emotion')\n",
        "pca = PCA(2)\n",
        "reduced = pca.fit_transform(X)"
      ],
      "metadata": {
        "id": "BSFJ8zmA9ZY6"
      },
      "execution_count": null,
      "outputs": []
    },
    {
      "cell_type": "markdown",
      "source": [
        "### Separación no supervisada como intento de visualizar los datos agrupados."
      ],
      "metadata": {
        "id": "-nEirhvGCRpZ"
      }
    },
    {
      "cell_type": "code",
      "execution_count": null,
      "metadata": {
        "id": "PNv7Jb_suYsj"
      },
      "outputs": [],
      "source": [
        "from sklearn.cluster import KMeans\n",
        "\n",
        "label = KMeans(n_clusters=8, random_state=0).fit_predict(reduced)\n",
        "\n",
        "filtered_label0 = reduced[label == 0]\n",
        "filtered_label0 = reduced[label == 1]\n",
        "filtered_label0 = reduced[label == 2]\n",
        "filtered_label0 = reduced[label == 3]\n",
        "filtered_label0 = reduced[label == 4]\n",
        "filtered_label0 = reduced[label == 5]\n",
        "filtered_label0 = reduced[label == 6]\n",
        "filtered_label0 = reduced[label == 7]\n",
        " "
      ]
    }
  ],
  "metadata": {
    "colab": {
      "collapsed_sections": [],
      "name": "Analisis preliminar.ipynb",
      "provenance": [],
      "authorship_tag": "ABX9TyOlJzwhsFNymGl3gsgaq31R",
      "include_colab_link": true
    },
    "kernelspec": {
      "display_name": "Python 3",
      "name": "python3"
    },
    "language_info": {
      "name": "python"
    }
  },
  "nbformat": 4,
  "nbformat_minor": 0
}