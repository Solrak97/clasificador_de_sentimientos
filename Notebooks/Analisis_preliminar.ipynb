{
  "cells": [
    {
      "cell_type": "markdown",
      "metadata": {
        "id": "view-in-github",
        "colab_type": "text"
      },
      "source": [
        "<a href=\"https://colab.research.google.com/github/Solrak97/clasificador_de_sentimientos/blob/main/Notebooks/Analisis_preliminar.ipynb\" target=\"_parent\"><img src=\"https://colab.research.google.com/assets/colab-badge.svg\" alt=\"Open In Colab\"/></a>"
      ]
    },
    {
      "cell_type": "markdown",
      "metadata": {
        "id": "HJV-TQ_UVyMr"
      },
      "source": [
        "# Analisis preeliminar de los datos"
      ]
    },
    {
      "cell_type": "markdown",
      "metadata": {
        "id": "6Ly_FJ3Wl1Gw"
      },
      "source": [
        "## Importación de los datos desde Kaggle"
      ]
    },
    {
      "cell_type": "code",
      "execution_count": null,
      "metadata": {
        "id": "lzLnkSbbuxN8"
      },
      "outputs": [],
      "source": [
        "%%capture\n",
        "! pip install kaggle wavio pydub keras-metrics\n",
        "! rm -rf *\n",
        "! mkdir ~/.kaggle\n",
        "! curl https://raw.githubusercontent.com/Solrak97/clasificador_de_sentimientos/main/kaggle.json > kaggle.json\n",
        "! cp kaggle.json ~/.kaggle/\n",
        "! chmod 600 ~/.kaggle/kaggle.json\n",
        "! kaggle datasets download uwrfkaggler/ravdess-emotional-speech-audio\n",
        "! unzip ravdess-emotional-speech-audio.zip"
      ]
    },
    {
      "cell_type": "code",
      "execution_count": null,
      "metadata": {
        "id": "D3DLGLOSl7VF"
      },
      "outputs": [],
      "source": [
        "import soundfile\n",
        "import numpy as np\n",
        "import librosa\n",
        "import glob\n",
        "import os\n",
        "from pydub import AudioSegment\n",
        "import seaborn as sns\n",
        "from matplotlib import pyplot as plt\n",
        "import pandas as pd\n",
        "\n",
        "from sklearn.decomposition import PCA\n",
        "from sklearn.preprocessing import StandardScaler"
      ]
    },
    {
      "cell_type": "markdown",
      "metadata": {
        "id": "1jtAJAd1trCH"
      },
      "source": [
        "### Transformación de los datos a las caracteristicas base del estudio Dias Issa et al.\n",
        "Se extraerá un grupo de caracteristicas para analizar, hemos notado que hay diferencias en los tamaños de los audios por lo que hemos decidido revisar como funcionan correctamente los tamaños de datos y otras de estas caracteristicas."
      ]
    },
    {
      "cell_type": "code",
      "source": [
        "INT_2_EMOTION = {\n",
        "    \"01\": \"neutral\",\n",
        "    \"02\": \"calm\",\n",
        "    \"03\": \"happy\",\n",
        "    \"04\": \"sad\",\n",
        "    \"05\": \"angry\",\n",
        "    \"06\": \"fearful\",\n",
        "    \"07\": \"disgust\",\n",
        "    \"08\": \"surprised\"\n",
        "}"
      ],
      "metadata": {
        "id": "TsMfB3lK5RLz"
      },
      "execution_count": null,
      "outputs": []
    },
    {
      "cell_type": "code",
      "execution_count": null,
      "metadata": {
        "id": "-aJdzXuPtvlr"
      },
      "outputs": [],
      "source": [
        "name, _len, emotions, mfccs, chromas, mels, contrasts, tonnetz = [], [], [], [], [], [], [], []\n",
        "\n",
        "for file in glob.glob(\"Actor_*/*.wav\"):\n",
        "      file_name = os.path.basename(file)\n",
        "\n",
        "      sound = AudioSegment.from_wav(file)\n",
        "      sound = sound.set_channels(1)\n",
        "      sound.export(file, format=\"wav\")\n",
        "\n",
        "      name_split = file_name.split(\"-\")\n",
        "      emotion = INT_2_EMOTION[name_split[2]]\n",
        "\n",
        "      with soundfile.SoundFile(file) as sound_file:\n",
        "        X = sound_file.read(dtype=\"float32\")\n",
        "        sample_rate = sound_file.samplerate\n",
        "        stft = np.abs(librosa.stft(X))\n",
        "        mfccs.append(np.mean(librosa.feature.mfcc(y=X, sr=sample_rate, n_mfcc=84).T, axis=0))\n",
        "        chromas.append(np.mean(librosa.feature.chroma_stft(S=stft, sr=sample_rate).T,axis=0))\n",
        "        mels.append(np.mean(librosa.feature.melspectrogram(X, sr=sample_rate, n_mels=84).T,axis=0))\n",
        "        contrasts.append(np.mean(librosa.feature.spectral_contrast(S=stft, sr=sample_rate).T,axis=0))\n",
        "        tonnetz.append(np.mean(librosa.feature.tonnetz(y=librosa.effects.harmonic(X), sr=sample_rate).T,axis=0))\n",
        "        \n",
        "        _len.append(librosa.get_duration(y=X, sr=sample_rate))         \n",
        "\n",
        "      name.append(file_name)\n",
        "      emotions.append(emotion)\n",
        "\n",
        "data = pd.DataFrame({'File name': name, 'Emotion': emotions, 'Duration': _len,\n",
        "                        'MFCC': mfccs, 'Chroma': chromas, 'Mel': mels, 'Contrast': contrasts, 'Tonnetz': tonnetz})"
      ]
    },
    {
      "cell_type": "code",
      "source": [
        "#data.to_pickle('data.pkl')\n",
        "data = pd.read_pickle('data.pkl')"
      ],
      "metadata": {
        "id": "ys9429NElPTT"
      },
      "execution_count": null,
      "outputs": []
    },
    {
      "cell_type": "markdown",
      "source": [
        "## Transformación de los datos utilizando PCA"
      ],
      "metadata": {
        "id": "t91rBCyh9hZj"
      }
    },
    {
      "cell_type": "code",
      "source": [
        "X = data.drop(columns=['Emotion', 'File name'])\n",
        "\n",
        "# Forgive me god, but it has to be done\n",
        "X = np.array([np.hstack([X['MFCC'][i], X['Chroma'][i], X['Mel'][i], \n",
        "                         X['Contrast'][i], X['Tonnetz'][i]]) for i in range(len(X.index))])"
      ],
      "metadata": {
        "id": "BSFJ8zmA9ZY6"
      },
      "execution_count": null,
      "outputs": []
    },
    {
      "cell_type": "code",
      "source": [
        "scaler = StandardScaler()\n",
        "scaler.fit(X)\n",
        "X=scaler.transform(X) \n",
        "\n",
        "\n",
        "pca = PCA(3)\n",
        "reduced = pca.fit_transform(X)\n",
        "pca.explained_variance_ratio_"
      ],
      "metadata": {
        "colab": {
          "base_uri": "https://localhost:8080/"
        },
        "id": "sruN7Czw612s",
        "outputId": "2f6f5c97-66c1-40d8-81a8-1edeaf21352e"
      },
      "execution_count": null,
      "outputs": [
        {
          "output_type": "execute_result",
          "data": {
            "text/plain": [
              "array([0.22510771, 0.09686766, 0.08505836])"
            ]
          },
          "metadata": {},
          "execution_count": 6
        }
      ]
    },
    {
      "cell_type": "markdown",
      "source": [
        "### Separación no supervisada como intento de visualizar los datos agrupados."
      ],
      "metadata": {
        "id": "-nEirhvGCRpZ"
      }
    },
    {
      "cell_type": "code",
      "execution_count": null,
      "metadata": {
        "id": "PNv7Jb_suYsj"
      },
      "outputs": [],
      "source": [
        "from sklearn.cluster import KMeans\n",
        "\n",
        "label = KMeans(n_clusters=8, random_state=0).fit_predict(reduced)\n",
        "labeled_kmeans = pd.DataFrame({'X': reduced[:,0], 'Y': reduced[:,1], 'label': label, 'Emotion': data['Emotion']})\n",
        "\n",
        "\n",
        "filtered_label0 = reduced[label == 0]\n",
        "filtered_label0 = reduced[label == 1]\n",
        "filtered_label0 = reduced[label == 2]\n",
        "filtered_label0 = reduced[label == 3]\n",
        "filtered_label0 = reduced[label == 4]\n",
        "filtered_label0 = reduced[label == 5]\n",
        "filtered_label0 = reduced[label == 6]\n",
        "filtered_label0 = reduced[label == 7]\n",
        " "
      ]
    },
    {
      "cell_type": "code",
      "source": [
        "sns.scatterplot(data=labeled_kmeans, x=\"X\", y=\"Y\", hue='Emotion')\n",
        "plt.show()"
      ],
      "metadata": {
        "colab": {
          "base_uri": "https://localhost:8080/",
          "height": 279
        },
        "id": "IwOXPSkk5iCX",
        "outputId": "0cce61de-1743-409e-d926-3532b9453bae"
      },
      "execution_count": null,
      "outputs": [
        {
          "output_type": "display_data",
          "data": {
            "text/plain": [
              "<Figure size 432x288 with 1 Axes>"
            ],
            "image/png": "[encoded data removed]"
          },
          "metadata": {
            "needs_background": "light"
          }
        }
      ]
    },
    {
      "cell_type": "markdown",
      "source": [
        "## Prueba de separación con el base model"
      ],
      "metadata": {
        "id": "AaXnNhO0NOGf"
      }
    },
    {
      "cell_type": "code",
      "source": [
        "from keras import Sequential\n",
        "from keras.layers import Dropout, MaxPool1D, Flatten, Dense, ReLU, Input, BatchNormalization, Softmax\n",
        "from keras.layers.convolutional import Conv1D\n",
        "from keras.layers.advanced_activations import Softmax\n",
        "import tensorflow as tf\n",
        "from tensorflow.keras.optimizers import RMSprop\n",
        "\n",
        "from sklearn.preprocessing import StandardScaler, OneHotEncoder\n",
        "from sklearn.model_selection import train_test_split"
      ],
      "metadata": {
        "id": "ePC9lniLNXOw"
      },
      "execution_count": null,
      "outputs": []
    },
    {
      "cell_type": "code",
      "source": [
        "def build_baseline():\n",
        "  model = Sequential()\n",
        "\n",
        "  # input layer\n",
        "  model.add(Input(shape=(193, 1)))\n",
        "  \n",
        "  # Primer Convolutional layer\n",
        "  model.add(Conv1D(strides=1, filters=255, kernel_size=5))\n",
        "  model.add(BatchNormalization())\n",
        "  model.add(ReLU())\n",
        "\n",
        "  # Segund Convolutional layer\n",
        "  model.add(Conv1D(strides=1, filters=128, kernel_size=5))\n",
        "  model.add(ReLU())\n",
        "  model.add(Dropout(rate=0.1))\n",
        "  model.add(BatchNormalization())\n",
        "\n",
        "  # Capa de Maxpooling\n",
        "  model.add(MaxPool1D(pool_size=8))\n",
        "\n",
        "  # 3 capas convolucionales intermedias\n",
        "  model.add(Conv1D(strides=1, filters=128, kernel_size=5))\n",
        "  model.add(ReLU())\n",
        "\n",
        "  model.add(Conv1D(strides=1, filters=128, kernel_size=5))\n",
        "  model.add(ReLU())\n",
        "\n",
        "  model.add(Conv1D(strides=1, filters=128, kernel_size=5))\n",
        "  model.add(BatchNormalization())\n",
        "  model.add(ReLU())\n",
        "  model.add(Dropout(rate=0.2))\n",
        "\n",
        "  # Capa convolucional final\n",
        "  model.add(Conv1D(strides=1, filters=128, kernel_size=5))\n",
        "  model.add(Flatten())\n",
        "  model.add(Dropout(rate=0.2))\n",
        "\n",
        "  # Capa densa, tiene la misma cantidad de neuronas que de clases a predecir\n",
        "  model.add(Dense(units=8))\n",
        "  model.add(BatchNormalization())\n",
        "  model.add(Softmax())  \n",
        "  return model"
      ],
      "metadata": {
        "id": "6mGSU-9aNSS4"
      },
      "execution_count": null,
      "outputs": []
    },
    {
      "cell_type": "markdown",
      "source": [
        "### Preparación de los datos"
      ],
      "metadata": {
        "id": "ru-ZZp03ONIy"
      }
    },
    {
      "cell_type": "code",
      "source": [
        "# Forgive me god, but it has to be done twice\n",
        "X = np.array([np.hstack([data['MFCC'][i], data['Chroma'][i], data['Mel'][i], \n",
        "                         data['Contrast'][i], data['Tonnetz'][i]]) for i in range(len(data.index))])\n",
        "\n",
        "print(X.shape)\n",
        "\n",
        "scaler = StandardScaler()\n",
        "scaler.fit(X)\n",
        "X=scaler.transform(X)\n",
        "Y = np.array(data['Emotion'])\n",
        "\n",
        "# Codificación de one hot encoding\n",
        "encoder = OneHotEncoder()\n",
        "Y = encoder.fit_transform(np.array(Y).reshape(-1,1)).toarray()\n",
        "\n",
        "X_train, X_test, y_train, y_test = train_test_split(X, Y)"
      ],
      "metadata": {
        "colab": {
          "base_uri": "https://localhost:8080/"
        },
        "id": "cIqobLbSNao-",
        "outputId": "a0665807-2b48-4de4-b2c8-89445fd10a2a"
      },
      "execution_count": null,
      "outputs": [
        {
          "output_type": "stream",
          "name": "stdout",
          "text": [
            "(1440, 193)\n"
          ]
        }
      ]
    },
    {
      "cell_type": "markdown",
      "source": [
        "### Entrenamiento y predicciones"
      ],
      "metadata": {
        "id": "dPunUi4sOQUw"
      }
    },
    {
      "cell_type": "code",
      "source": [
        "model = build_baseline()\n",
        "model.compile(optimizer = RMSprop(learning_rate=1e-5) , loss = 'categorical_crossentropy' , metrics = ['accuracy'])\n",
        "model.summary()"
      ],
      "metadata": {
        "colab": {
          "base_uri": "https://localhost:8080/"
        },
        "id": "hpTUrO9IQUNt",
        "outputId": "8f85acad-0bdc-4704-9ee5-2fb6d3c27dbd"
      },
      "execution_count": null,
      "outputs": [
        {
          "output_type": "stream",
          "name": "stdout",
          "text": [
            "Model: \"sequential_1\"\n",
            "_________________________________________________________________\n",
            " Layer (type)                Output Shape              Param #   \n",
            "=================================================================\n",
            " conv1d_6 (Conv1D)           (None, 189, 255)          1530      \n",
            "                                                                 \n",
            " batch_normalization_4 (Batc  (None, 189, 255)         1020      \n",
            " hNormalization)                                                 \n",
            "                                                                 \n",
            " re_lu_5 (ReLU)              (None, 189, 255)          0         \n",
            "                                                                 \n",
            " conv1d_7 (Conv1D)           (None, 185, 128)          163328    \n",
            "                                                                 \n",
            " re_lu_6 (ReLU)              (None, 185, 128)          0         \n",
            "                                                                 \n",
            " dropout_3 (Dropout)         (None, 185, 128)          0         \n",
            "                                                                 \n",
            " batch_normalization_5 (Batc  (None, 185, 128)         512       \n",
            " hNormalization)                                                 \n",
            "                                                                 \n",
            " max_pooling1d_1 (MaxPooling  (None, 23, 128)          0         \n",
            " 1D)                                                             \n",
            "                                                                 \n",
            " conv1d_8 (Conv1D)           (None, 19, 128)           82048     \n",
            "                                                                 \n",
            " re_lu_7 (ReLU)              (None, 19, 128)           0         \n",
            "                                                                 \n",
            " conv1d_9 (Conv1D)           (None, 15, 128)           82048     \n",
            "                                                                 \n",
            " re_lu_8 (ReLU)              (None, 15, 128)           0         \n",
            "                                                                 \n",
            " conv1d_10 (Conv1D)          (None, 11, 128)           82048     \n",
            "                                                                 \n",
            " batch_normalization_6 (Batc  (None, 11, 128)          512       \n",
            " hNormalization)                                                 \n",
            "                                                                 \n",
            " re_lu_9 (ReLU)              (None, 11, 128)           0         \n",
            "                                                                 \n",
            " dropout_4 (Dropout)         (None, 11, 128)           0         \n",
            "                                                                 \n",
            " conv1d_11 (Conv1D)          (None, 7, 128)            82048     \n",
            "                                                                 \n",
            " flatten_1 (Flatten)         (None, 896)               0         \n",
            "                                                                 \n",
            " dropout_5 (Dropout)         (None, 896)               0         \n",
            "                                                                 \n",
            " dense_1 (Dense)             (None, 8)                 7176      \n",
            "                                                                 \n",
            " batch_normalization_7 (Batc  (None, 8)                32        \n",
            " hNormalization)                                                 \n",
            "                                                                 \n",
            " softmax_1 (Softmax)         (None, 8)                 0         \n",
            "                                                                 \n",
            "=================================================================\n",
            "Total params: 502,302\n",
            "Trainable params: 501,264\n",
            "Non-trainable params: 1,038\n",
            "_________________________________________________________________\n"
          ]
        }
      ]
    },
    {
      "cell_type": "code",
      "source": [
        "model.fit(X_train, y_train, epochs=100)"
      ],
      "metadata": {
        "colab": {
          "base_uri": "https://localhost:8080/"
        },
        "id": "hy4Yd0p6OMSk",
        "outputId": "1a19199f-1bbe-4a60-d681-6c45468646a9"
      },
      "execution_count": null,
      "outputs": [
        {
          "output_type": "stream",
          "name": "stdout",
          "text": [
            "Epoch 1/100\n",
            "34/34 [==============================] - 2s 12ms/step - loss: 2.2527 - accuracy: 0.1481\n",
            "Epoch 2/100\n",
            "34/34 [==============================] - 0s 10ms/step - loss: 2.2032 - accuracy: 0.1750\n",
            "Epoch 3/100\n",
            "34/34 [==============================] - 0s 10ms/step - loss: 2.1300 - accuracy: 0.1935\n",
            "Epoch 4/100\n",
            "34/34 [==============================] - 0s 10ms/step - loss: 2.0775 - accuracy: 0.2074\n",
            "Epoch 5/100\n",
            "34/34 [==============================] - 0s 10ms/step - loss: 1.9972 - accuracy: 0.2472\n",
            "Epoch 6/100\n",
            "34/34 [==============================] - 0s 10ms/step - loss: 1.9896 - accuracy: 0.2250\n",
            "Epoch 7/100\n",
            "34/34 [==============================] - 0s 10ms/step - loss: 1.9344 - accuracy: 0.2519\n",
            "Epoch 8/100\n",
            "34/34 [==============================] - 0s 10ms/step - loss: 1.8773 - accuracy: 0.2667\n",
            "Epoch 9/100\n",
            "34/34 [==============================] - 0s 10ms/step - loss: 1.8793 - accuracy: 0.2769\n",
            "Epoch 10/100\n",
            "34/34 [==============================] - 0s 10ms/step - loss: 1.8585 - accuracy: 0.2806\n",
            "Epoch 11/100\n",
            "34/34 [==============================] - 0s 10ms/step - loss: 1.8224 - accuracy: 0.3074\n",
            "Epoch 12/100\n",
            "34/34 [==============================] - 0s 10ms/step - loss: 1.7982 - accuracy: 0.3148\n",
            "Epoch 13/100\n",
            "34/34 [==============================] - 0s 10ms/step - loss: 1.7661 - accuracy: 0.3361\n",
            "Epoch 14/100\n",
            "34/34 [==============================] - 0s 10ms/step - loss: 1.7590 - accuracy: 0.3343\n",
            "Epoch 15/100\n",
            "34/34 [==============================] - 0s 10ms/step - loss: 1.7357 - accuracy: 0.3602\n",
            "Epoch 16/100\n",
            "34/34 [==============================] - 0s 10ms/step - loss: 1.7335 - accuracy: 0.3417\n",
            "Epoch 17/100\n",
            "34/34 [==============================] - 0s 10ms/step - loss: 1.7138 - accuracy: 0.3694\n",
            "Epoch 18/100\n",
            "34/34 [==============================] - 0s 10ms/step - loss: 1.7163 - accuracy: 0.3639\n",
            "Epoch 19/100\n",
            "34/34 [==============================] - 0s 11ms/step - loss: 1.7255 - accuracy: 0.3694\n",
            "Epoch 20/100\n",
            "34/34 [==============================] - 0s 10ms/step - loss: 1.6785 - accuracy: 0.3852\n",
            "Epoch 21/100\n",
            "34/34 [==============================] - 0s 10ms/step - loss: 1.6918 - accuracy: 0.3519\n",
            "Epoch 22/100\n",
            "34/34 [==============================] - 1s 20ms/step - loss: 1.6662 - accuracy: 0.3713\n",
            "Epoch 23/100\n",
            "34/34 [==============================] - 0s 14ms/step - loss: 1.6211 - accuracy: 0.4028\n",
            "Epoch 24/100\n",
            "34/34 [==============================] - 0s 12ms/step - loss: 1.6200 - accuracy: 0.4083\n",
            "Epoch 25/100\n",
            "34/34 [==============================] - 1s 19ms/step - loss: 1.6131 - accuracy: 0.4028\n",
            "Epoch 26/100\n",
            "34/34 [==============================] - 0s 13ms/step - loss: 1.6144 - accuracy: 0.4148\n",
            "Epoch 27/100\n",
            "34/34 [==============================] - 0s 10ms/step - loss: 1.6143 - accuracy: 0.4250\n",
            "Epoch 28/100\n",
            "34/34 [==============================] - 0s 10ms/step - loss: 1.5712 - accuracy: 0.4250\n",
            "Epoch 29/100\n",
            "34/34 [==============================] - 0s 10ms/step - loss: 1.5578 - accuracy: 0.4537\n",
            "Epoch 30/100\n",
            "34/34 [==============================] - 0s 10ms/step - loss: 1.5530 - accuracy: 0.4472\n",
            "Epoch 31/100\n",
            "34/34 [==============================] - 0s 10ms/step - loss: 1.5493 - accuracy: 0.4389\n",
            "Epoch 32/100\n",
            "34/34 [==============================] - 0s 10ms/step - loss: 1.5693 - accuracy: 0.4417\n",
            "Epoch 33/100\n",
            "34/34 [==============================] - 0s 10ms/step - loss: 1.5577 - accuracy: 0.4426\n",
            "Epoch 34/100\n",
            "34/34 [==============================] - 0s 10ms/step - loss: 1.5383 - accuracy: 0.4500\n",
            "Epoch 35/100\n",
            "34/34 [==============================] - 0s 10ms/step - loss: 1.4932 - accuracy: 0.4713\n",
            "Epoch 36/100\n",
            "34/34 [==============================] - 0s 10ms/step - loss: 1.4914 - accuracy: 0.4722\n",
            "Epoch 37/100\n",
            "34/34 [==============================] - 0s 10ms/step - loss: 1.4743 - accuracy: 0.4824\n",
            "Epoch 38/100\n",
            "34/34 [==============================] - 0s 10ms/step - loss: 1.4714 - accuracy: 0.4750\n",
            "Epoch 39/100\n",
            "34/34 [==============================] - 0s 10ms/step - loss: 1.4811 - accuracy: 0.4648\n",
            "Epoch 40/100\n",
            "34/34 [==============================] - 0s 10ms/step - loss: 1.4726 - accuracy: 0.4778\n",
            "Epoch 41/100\n",
            "34/34 [==============================] - 0s 10ms/step - loss: 1.4681 - accuracy: 0.4926\n",
            "Epoch 42/100\n",
            "34/34 [==============================] - 0s 10ms/step - loss: 1.4445 - accuracy: 0.5000\n",
            "Epoch 43/100\n",
            "34/34 [==============================] - 0s 10ms/step - loss: 1.4446 - accuracy: 0.5046\n",
            "Epoch 44/100\n",
            "34/34 [==============================] - 0s 10ms/step - loss: 1.4410 - accuracy: 0.5000\n",
            "Epoch 45/100\n",
            "34/34 [==============================] - 0s 10ms/step - loss: 1.4324 - accuracy: 0.5333\n",
            "Epoch 46/100\n",
            "34/34 [==============================] - 0s 10ms/step - loss: 1.4337 - accuracy: 0.4981\n",
            "Epoch 47/100\n",
            "34/34 [==============================] - 0s 10ms/step - loss: 1.3981 - accuracy: 0.5259\n",
            "Epoch 48/100\n",
            "34/34 [==============================] - 0s 10ms/step - loss: 1.4306 - accuracy: 0.5120\n",
            "Epoch 49/100\n",
            "34/34 [==============================] - 0s 11ms/step - loss: 1.3936 - accuracy: 0.5259\n",
            "Epoch 50/100\n",
            "34/34 [==============================] - 0s 10ms/step - loss: 1.3900 - accuracy: 0.5269\n",
            "Epoch 51/100\n",
            "34/34 [==============================] - 0s 10ms/step - loss: 1.3768 - accuracy: 0.5222\n",
            "Epoch 52/100\n",
            "34/34 [==============================] - 0s 10ms/step - loss: 1.3672 - accuracy: 0.5417\n",
            "Epoch 53/100\n",
            "34/34 [==============================] - 0s 10ms/step - loss: 1.3748 - accuracy: 0.5380\n",
            "Epoch 54/100\n",
            "34/34 [==============================] - 0s 10ms/step - loss: 1.3466 - accuracy: 0.5630\n",
            "Epoch 55/100\n",
            "34/34 [==============================] - 0s 10ms/step - loss: 1.3455 - accuracy: 0.5593\n",
            "Epoch 56/100\n",
            "34/34 [==============================] - 0s 10ms/step - loss: 1.3356 - accuracy: 0.5685\n",
            "Epoch 57/100\n",
            "34/34 [==============================] - 0s 10ms/step - loss: 1.3237 - accuracy: 0.5639\n",
            "Epoch 58/100\n",
            "34/34 [==============================] - 0s 10ms/step - loss: 1.2946 - accuracy: 0.5667\n",
            "Epoch 59/100\n",
            "34/34 [==============================] - 0s 10ms/step - loss: 1.3073 - accuracy: 0.5769\n",
            "Epoch 60/100\n",
            "34/34 [==============================] - 0s 10ms/step - loss: 1.3046 - accuracy: 0.5787\n",
            "Epoch 61/100\n",
            "34/34 [==============================] - 0s 10ms/step - loss: 1.3114 - accuracy: 0.5694\n",
            "Epoch 62/100\n",
            "34/34 [==============================] - 0s 10ms/step - loss: 1.2959 - accuracy: 0.5889\n",
            "Epoch 63/100\n",
            "34/34 [==============================] - 0s 10ms/step - loss: 1.2855 - accuracy: 0.5898\n",
            "Epoch 64/100\n",
            "34/34 [==============================] - 0s 10ms/step - loss: 1.2416 - accuracy: 0.6426\n",
            "Epoch 65/100\n",
            "34/34 [==============================] - 0s 10ms/step - loss: 1.2752 - accuracy: 0.5963\n",
            "Epoch 66/100\n",
            "34/34 [==============================] - 0s 10ms/step - loss: 1.2594 - accuracy: 0.6083\n",
            "Epoch 67/100\n",
            "34/34 [==============================] - 0s 10ms/step - loss: 1.2555 - accuracy: 0.6222\n",
            "Epoch 68/100\n",
            "34/34 [==============================] - 0s 10ms/step - loss: 1.2390 - accuracy: 0.6250\n",
            "Epoch 69/100\n",
            "34/34 [==============================] - 0s 10ms/step - loss: 1.2604 - accuracy: 0.6093\n",
            "Epoch 70/100\n",
            "34/34 [==============================] - 0s 10ms/step - loss: 1.2435 - accuracy: 0.6157\n",
            "Epoch 71/100\n",
            "34/34 [==============================] - 0s 11ms/step - loss: 1.2525 - accuracy: 0.6157\n",
            "Epoch 72/100\n",
            "34/34 [==============================] - 0s 10ms/step - loss: 1.2386 - accuracy: 0.6315\n",
            "Epoch 73/100\n",
            "34/34 [==============================] - 0s 10ms/step - loss: 1.2436 - accuracy: 0.6157\n",
            "Epoch 74/100\n",
            "34/34 [==============================] - 0s 11ms/step - loss: 1.2646 - accuracy: 0.5963\n",
            "Epoch 75/100\n",
            "34/34 [==============================] - 0s 10ms/step - loss: 1.2254 - accuracy: 0.6231\n",
            "Epoch 76/100\n",
            "34/34 [==============================] - 0s 10ms/step - loss: 1.2161 - accuracy: 0.6241\n",
            "Epoch 77/100\n",
            "34/34 [==============================] - 0s 11ms/step - loss: 1.2300 - accuracy: 0.6167\n",
            "Epoch 78/100\n",
            "34/34 [==============================] - 0s 10ms/step - loss: 1.2027 - accuracy: 0.6398\n",
            "Epoch 79/100\n",
            "34/34 [==============================] - 0s 10ms/step - loss: 1.1758 - accuracy: 0.6602\n",
            "Epoch 80/100\n",
            "34/34 [==============================] - 0s 10ms/step - loss: 1.2139 - accuracy: 0.6463\n",
            "Epoch 81/100\n",
            "34/34 [==============================] - 0s 10ms/step - loss: 1.1767 - accuracy: 0.6806\n",
            "Epoch 82/100\n",
            "34/34 [==============================] - 0s 10ms/step - loss: 1.1645 - accuracy: 0.6704\n",
            "Epoch 83/100\n",
            "34/34 [==============================] - 0s 10ms/step - loss: 1.1572 - accuracy: 0.6611\n",
            "Epoch 84/100\n",
            "34/34 [==============================] - 0s 10ms/step - loss: 1.1402 - accuracy: 0.6972\n",
            "Epoch 85/100\n",
            "34/34 [==============================] - 0s 10ms/step - loss: 1.1499 - accuracy: 0.6843\n",
            "Epoch 86/100\n",
            "34/34 [==============================] - 0s 10ms/step - loss: 1.1643 - accuracy: 0.6685\n",
            "Epoch 87/100\n",
            "34/34 [==============================] - 0s 10ms/step - loss: 1.1343 - accuracy: 0.6935\n",
            "Epoch 88/100\n",
            "34/34 [==============================] - 0s 10ms/step - loss: 1.1496 - accuracy: 0.6981\n",
            "Epoch 89/100\n",
            "34/34 [==============================] - 0s 10ms/step - loss: 1.1381 - accuracy: 0.6889\n",
            "Epoch 90/100\n",
            "34/34 [==============================] - 0s 10ms/step - loss: 1.1496 - accuracy: 0.6787\n",
            "Epoch 91/100\n",
            "34/34 [==============================] - 0s 10ms/step - loss: 1.1121 - accuracy: 0.7019\n",
            "Epoch 92/100\n",
            "34/34 [==============================] - 0s 10ms/step - loss: 1.1401 - accuracy: 0.6880\n",
            "Epoch 93/100\n",
            "34/34 [==============================] - 0s 10ms/step - loss: 1.1117 - accuracy: 0.7009\n",
            "Epoch 94/100\n",
            "34/34 [==============================] - 0s 10ms/step - loss: 1.1090 - accuracy: 0.7157\n",
            "Epoch 95/100\n",
            "34/34 [==============================] - 0s 10ms/step - loss: 1.1262 - accuracy: 0.6870\n",
            "Epoch 96/100\n",
            "34/34 [==============================] - 0s 10ms/step - loss: 1.0995 - accuracy: 0.7250\n",
            "Epoch 97/100\n",
            "34/34 [==============================] - 0s 10ms/step - loss: 1.0960 - accuracy: 0.7074\n",
            "Epoch 98/100\n",
            "34/34 [==============================] - 0s 10ms/step - loss: 1.1016 - accuracy: 0.7111\n",
            "Epoch 99/100\n",
            "34/34 [==============================] - 0s 10ms/step - loss: 1.0847 - accuracy: 0.7213\n",
            "Epoch 100/100\n",
            "34/34 [==============================] - 0s 10ms/step - loss: 1.0879 - accuracy: 0.7019\n"
          ]
        },
        {
          "output_type": "execute_result",
          "data": {
            "text/plain": [
              "<keras.callbacks.History at 0x7f12383b3ed0>"
            ]
          },
          "metadata": {},
          "execution_count": 21
        }
      ]
    },
    {
      "cell_type": "code",
      "source": [
        "#pred = model.predict(X_test)\n",
        "\n",
        "score = model.evaluate(X_test, y_test)\n",
        "print('Test loss:', score[0]) \n",
        "print('Test accuracy:', score[1])"
      ],
      "metadata": {
        "colab": {
          "base_uri": "https://localhost:8080/"
        },
        "id": "icpz76admoCK",
        "outputId": "698db56e-19af-4b77-cc3a-377ace8addeb"
      },
      "execution_count": null,
      "outputs": [
        {
          "output_type": "stream",
          "name": "stdout",
          "text": [
            "12/12 [==============================] - 0s 5ms/step - loss: 1.6524 - accuracy: 0.3861\n",
            "Test loss: 1.6523858308792114\n",
            "Test accuracy: 0.3861111104488373\n"
          ]
        }
      ]
    }
  ],
  "metadata": {
    "colab": {
      "collapsed_sections": [],
      "name": "Analisis preliminar.ipynb",
      "provenance": [],
      "authorship_tag": "ABX9TyMNo+KdrpJZVh4eKq0wpFnF",
      "include_colab_link": true
    },
    "kernelspec": {
      "display_name": "Python 3",
      "name": "python3"
    },
    "language_info": {
      "name": "python"
    },
    "accelerator": "GPU"
  },
  "nbformat": 4,
  "nbformat_minor": 0
}