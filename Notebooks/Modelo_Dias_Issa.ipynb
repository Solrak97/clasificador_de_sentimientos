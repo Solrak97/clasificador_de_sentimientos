{
 "cells": [
  {
   "cell_type": "code",
   "execution_count": null,
   "metadata": {},
   "outputs": [],
   "source": [
    "from keras import Sequential\n",
    "from keras.layers import Dropout, MaxPool1D, Flatten, Dense, ReLU, Input, BatchNormalization, Softmax\n",
    "from keras.layers.convolutional import Conv1D\n",
    "from keras.layers.advanced_activations import Softmax"
   ]
  },
  {
   "cell_type": "markdown",
   "metadata": {},
   "source": [
    "# Modelo base propuesto por Dias Issa et al."
   ]
  },
  {
   "cell_type": "code",
   "execution_count": null,
   "metadata": {},
   "outputs": [],
   "source": [
    "def build_baseline():\n",
    "  model = Sequential()\n",
    "\n",
    "  # input layer\n",
    "  model.add(Input(shape=(193, 1)))\n",
    "  \n",
    "  # Primer Convolutional layer\n",
    "  model.add(Conv1D(strides=1, filters=255, kernel_size=5))\n",
    "  model.add(BatchNormalization())\n",
    "  model.add(ReLU())\n",
    "\n",
    "  # Segund Convolutional layer\n",
    "  model.add(Conv1D(strides=1, filters=128, kernel_size=5))\n",
    "  model.add(ReLU())\n",
    "  model.add(Dropout(rate=0.1))\n",
    "  model.add(BatchNormalization())\n",
    "\n",
    "  # Capa de Maxpooling\n",
    "  model.add(MaxPool1D(pool_size=8))\n",
    "\n",
    "  # 3 capas convolucionales intermedias\n",
    "  model.add(Conv1D(strides=1, filters=128, kernel_size=5))\n",
    "  model.add(ReLU())\n",
    "\n",
    "  model.add(Conv1D(strides=1, filters=128, kernel_size=5))\n",
    "  model.add(ReLU())\n",
    "\n",
    "  model.add(Conv1D(strides=1, filters=128, kernel_size=5))\n",
    "  model.add(BatchNormalization())\n",
    "  model.add(ReLU())\n",
    "  model.add(Dropout(rate=0.2))\n",
    "\n",
    "  # Capa convolucional final\n",
    "  model.add(Conv1D(strides=1, filters=128, kernel_size=5))\n",
    "  model.add(Flatten())\n",
    "  model.add(Dropout(rate=0.2))\n",
    "\n",
    "  # Capa densa, tiene la misma cantidad de neuronas que de clases a predecir\n",
    "  model.add(Dense(units=8))\n",
    "  model.add(BatchNormalization())\n",
    "  model.add(Softmax())\n",
    "  \n",
    "  return model"
   ]
  }
 ],
 "metadata": {
  "language_info": {
   "name": "python"
  },
  "orig_nbformat": 4
 },
 "nbformat": 4,
 "nbformat_minor": 2
}
