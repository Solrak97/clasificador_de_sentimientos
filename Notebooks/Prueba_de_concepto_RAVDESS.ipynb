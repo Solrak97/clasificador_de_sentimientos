{
  "cells": [
    {
      "cell_type": "markdown",
      "metadata": {
        "id": "view-in-github",
        "colab_type": "text"
      },
      "source": [
        "<a href=\"https://colab.research.google.com/github/Solrak97/clasificador_de_sentimientos/blob/main/Prueba_de_concepto_RAVDESS.ipynb\" target=\"_parent\"><img src=\"https://colab.research.google.com/assets/colab-badge.svg\" alt=\"Open In Colab\"/></a>"
      ]
    },
    {
      "cell_type": "code",
      "execution_count": null,
      "metadata": {
        "id": "mrjrCS157wwy"
      },
      "outputs": [],
      "source": [
        "! pip install kaggle wavio pydub keras-metrics\n",
        "! mkdir ~/.kaggle\n",
        "! cp kaggle.json ~/.kaggle/\n",
        "! chmod 600 ~/.kaggle/kaggle.json\n",
        "! kaggle datasets download uwrfkaggler/ravdess-emotional-speech-audio\n",
        "! unzip ravdess-emotional-speech-audio.zip"
      ]
    },
    {
      "cell_type": "markdown",
      "metadata": {
        "id": "n8lnWEs47N53"
      },
      "source": [
        "## Bibliotecas necesarias"
      ]
    },
    {
      "cell_type": "code",
      "execution_count": null,
      "metadata": {
        "id": "EMs_uwZ47bxZ"
      },
      "outputs": [],
      "source": [
        "import soundfile # to read audio file\n",
        "import numpy as np\n",
        "import librosa # to extract speech features\n",
        "import glob\n",
        "import os\n",
        "import pickle # to save model after training\n",
        "\n",
        "from pydub import AudioSegment\n",
        "\n",
        "import seaborn as sns\n",
        "from matplotlib import pyplot as plt\n"
      ]
    },
    {
      "cell_type": "markdown",
      "metadata": {
        "id": "4Ok5kblG7RD8"
      },
      "source": [
        "## Extraccion de caracteristicas"
      ]
    },
    {
      "cell_type": "code",
      "execution_count": null,
      "metadata": {
        "id": "GevdxeWZ7dSw"
      },
      "outputs": [],
      "source": [
        "def extract_feature(file_name, **kwargs):\n",
        "    mfcc = kwargs.get(\"mfcc\")\n",
        "    chroma = kwargs.get(\"chroma\")\n",
        "    mel = kwargs.get(\"mel\")\n",
        "    contrast = kwargs.get(\"contrast\")\n",
        "    tonnetz = kwargs.get(\"tonnetz\") \n",
        "\n",
        "    with soundfile.SoundFile(file_name) as sound_file:\n",
        "        X = sound_file.read(dtype=\"float32\")\n",
        "        sample_rate = sound_file.samplerate\n",
        "\n",
        "        if chroma or contrast:\n",
        "            stft = np.abs(librosa.stft(X))\n",
        "        result = np.array([])\n",
        "      \n",
        "        if mfcc:\n",
        "            mfccs = np.mean(librosa.feature.mfcc(y=X, sr=sample_rate, n_mfcc=128).T, axis=0)\n",
        "            result = np.hstack((result, mfccs))\n",
        "           \n",
        "        if chroma:\n",
        "            chroma = np.mean(librosa.feature.chroma_stft(S=stft, sr=sample_rate).T,axis=0)\n",
        "            result = np.hstack((result, chroma))\n",
        "           \n",
        "        if mel:\n",
        "            mel = np.mean(librosa.feature.melspectrogram(X, sr=sample_rate).T,axis=0)\n",
        "            result = np.hstack((result, mel))\n",
        "           \n",
        "        if contrast:\n",
        "            contrast = np.mean(librosa.feature.spectral_contrast(S=stft, sr=sample_rate).T,axis=0)\n",
        "            result = np.hstack((result, contrast))\n",
        "           \n",
        "        if tonnetz:\n",
        "            tonnetz = np.mean(librosa.feature.tonnetz(y=librosa.effects.harmonic(X), sr=sample_rate).T,axis=0)\n",
        "            result = np.hstack((result, tonnetz))\n",
        "           \n",
        "    return result"
      ]
    },
    {
      "cell_type": "markdown",
      "metadata": {
        "id": "G5RFJLUJ7V6t"
      },
      "source": [
        "## Enums de emociones dentro del dataset RAVDESS"
      ]
    },
    {
      "cell_type": "code",
      "execution_count": null,
      "metadata": {
        "id": "PWd_p1dD7lwX"
      },
      "outputs": [],
      "source": [
        "# we allow only these emotions ( feel free to tune this on your need )\n",
        "AVAILABLE_EMOTIONS = {\n",
        "    \"neutral\",\n",
        "    \"calm\",\n",
        "    \"happy\",\n",
        "    \"sad\",\n",
        "    \"angry\",\n",
        "    \"fearful\",\n",
        "    \"disgust\",\n",
        "    \"surprised\"\n",
        "}"
      ]
    },
    {
      "cell_type": "markdown",
      "source": [
        "## Transformación del dataset para un estudio más adecuado"
      ],
      "metadata": {
        "id": "nntDh6dnEu5A"
      }
    },
    {
      "cell_type": "markdown",
      "source": [
        "### Mapas de categoría\n"
      ],
      "metadata": {
        "id": "b5GmU-iDF7py"
      }
    },
    {
      "cell_type": "code",
      "source": [
        "'''\n",
        "Modality (01 = full-AV, 02 = video-only, 03 = audio-only).\n",
        "Vocal channel (01 = speech, 02 = song).\n",
        "Emotion (01 = neutral, 02 = calm, 03 = happy, 04 = sad, 05 = angry, 06 = fearful, 07 = disgust, 08 = surprised).\n",
        "Emotional intensity (01 = normal, 02 = strong). NOTE: There is no strong intensity for the 'neutral' emotion.\n",
        "Statement (01 = \"Kids are talking by the door\", 02 = \"Dogs are sitting by the door\").\n",
        "Repetition (01 = 1st repetition, 02 = 2nd repetition).\n",
        "Actor (01 to 24. Odd numbered actors are male, even numbered actors are female).\n",
        "'''\n",
        "\n",
        "INT_2_MODALITY = {\n",
        "    '01' : 'full-AV',\n",
        "    '02' : 'video-only',\n",
        "    '03' : 'audio-only'\n",
        "}\n",
        "\n",
        "INT_2_VOCAL = {\n",
        "    '01' : 'speech',\n",
        "    '02' : 'song'\n",
        "}\n",
        "\n",
        "INT_2_EMOTION = {\n",
        "    \"01\": \"neutral\",\n",
        "    \"02\": \"calm\",\n",
        "    \"03\": \"happy\",\n",
        "    \"04\": \"sad\",\n",
        "    \"05\": \"angry\",\n",
        "    \"06\": \"fearful\",\n",
        "    \"07\": \"disgust\",\n",
        "    \"08\": \"surprised\"\n",
        "}\n",
        "\n",
        "INT_2_INTENSITY = {\n",
        "    '01' : 'normal', \n",
        "    '02' : 'strong'\n",
        "}\n",
        "\n",
        "INT_2_STATEMENT = {\n",
        "    '01' : '\"Kids are talking by the door\"',\n",
        "    '02' : '\"Dogs are sitting by the door\"'\n",
        "}\n",
        "\n",
        "INT_2_REPETITION = {\n",
        "    '01' : '1st repetition', \n",
        "    '02' : '2nd repetition'\n",
        "}"
      ],
      "metadata": {
        "id": "VDdnxrEqGBk-"
      },
      "execution_count": null,
      "outputs": []
    },
    {
      "cell_type": "code",
      "source": [
        "import pandas as pd\n",
        "\n",
        "\n",
        "def load_data():\n",
        "\n",
        "    _modality = []\n",
        "    _vocal_channel = []\n",
        "    _emotions = []\n",
        "    _intensity = []\n",
        "    _statement = []\n",
        "    _repetition = []\n",
        "    _actor = []\n",
        "    _features = []\n",
        "\n",
        "    X, y = [], []\n",
        "\n",
        "    for file in glob.glob(\"Actor_*/*.wav\"):\n",
        "            \n",
        "      file_name=os.path.basename(file)\n",
        "      \n",
        "      # El audio viene en estereo para algunas partes\n",
        "      # Así que se pasa a mono\n",
        "      sound = AudioSegment.from_wav(file)\n",
        "      sound = sound.set_channels(1)\n",
        "      sound.export(file, format=\"wav\")\n",
        "  \n",
        "      name_split = file_name.split(\"-\")\n",
        "      emotion = INT_2_EMOTION[name_split[2]]\n",
        "\n",
        "      # Limitación de emociones\n",
        "      if emotion not in AVAILABLE_EMOTIONS:\n",
        "        continue\n",
        "      \n",
        "      _modality.append(INT_2_MODALITY[name_split[0]])\n",
        "      _vocal_channel.append(INT_2_VOCAL[name_split[1]])\n",
        "      _intensity.append(INT_2_INTENSITY[name_split[3]])\n",
        "      _statement.append(INT_2_STATEMENT[name_split[4]])\n",
        "      _repetition.append(INT_2_REPETITION[name_split[5]])\n",
        "      _actor.append(name_split[6])\n",
        "      _emotions.append(emotion)\n",
        "\n",
        "      # Extracción de los datos graciosos\n",
        "      features = extract_feature(file, mfcc=True, \n",
        "                                 chroma=True, mel=True, \n",
        "                                 contrast=True, tonnetz=True)\n",
        "      \n",
        "      _features.append(features)\n",
        "\n",
        "\n",
        "    data = {\n",
        "      'Modality' :  _modality,\n",
        "      'Vocal Channel' : _vocal_channel,\n",
        "      'Emotion' : _emotions,\n",
        "      'Intensity' : _intensity,\n",
        "      'Statement' : _statement,\n",
        "      'Repetition' : _repetition,\n",
        "      'Actor_ID' : _actor,\n",
        "      'Features' : _features\n",
        "    } \n",
        "\n",
        "    df = pd.DataFrame(data)\n",
        "\n",
        "    return df"
      ],
      "metadata": {
        "id": "s7LtmJo5FCh6"
      },
      "execution_count": null,
      "outputs": []
    },
    {
      "cell_type": "markdown",
      "metadata": {
        "id": "kQEdIdidWhZ2"
      },
      "source": [
        "## Esta vara es super slow, así que metí los datos en un pkl y los podemos sacar de ahí"
      ]
    },
    {
      "cell_type": "code",
      "execution_count": null,
      "metadata": {
        "id": "0xbwkXHvWuTy"
      },
      "outputs": [],
      "source": [
        "# Va para un pkl porque esto es slooooooow\n",
        "def save_pkl(data):\n",
        "    with open('data.pkl', 'wb') as file:\n",
        "      pickle.dump(data, file)\n",
        "\n",
        "# Carga desde el pkl\n",
        "def load_pkl():    \n",
        "    with open('data.pkl','rb') as file:\n",
        "      data = pickle.load(file)\n",
        "    return data"
      ]
    },
    {
      "cell_type": "markdown",
      "source": [
        "## Carga de datos"
      ],
      "metadata": {
        "id": "dIw9c9xWOM-M"
      }
    },
    {
      "cell_type": "code",
      "execution_count": null,
      "metadata": {
        "id": "E5C_ASLa7p42",
        "colab": {
          "base_uri": "https://localhost:8080/",
          "height": 250
        },
        "outputId": "0ae454df-4920-460d-c48a-a2fe062f6b2c"
      },
      "outputs": [
        {
          "output_type": "execute_result",
          "data": {
            "text/plain": [
              "     Modality Vocal Channel    Emotion Intensity  \\\n",
              "0  audio-only        speech      happy    strong   \n",
              "1  audio-only        speech        sad    normal   \n",
              "2  audio-only        speech      angry    strong   \n",
              "3  audio-only        speech  surprised    strong   \n",
              "4  audio-only        speech       calm    normal   \n",
              "\n",
              "                        Statement      Repetition Actor_ID  \\\n",
              "0  \"Dogs are sitting by the door\"  2nd repetition   14.wav   \n",
              "1  \"Kids are talking by the door\"  2nd repetition   14.wav   \n",
              "2  \"Kids are talking by the door\"  2nd repetition   14.wav   \n",
              "3  \"Dogs are sitting by the door\"  2nd repetition   14.wav   \n",
              "4  \"Dogs are sitting by the door\"  1st repetition   14.wav   \n",
              "\n",
              "                                            Features  \n",
              "0  [-486.71234130859375, 31.76954460144043, -27.6...  \n",
              "1  [-724.6514282226562, 55.71769714355469, 4.6227...  \n",
              "2  [-425.3967590332031, 45.91071701049805, -28.68...  \n",
              "3  [-625.5650024414062, 37.601566314697266, -3.69...  \n",
              "4  [-744.2587890625, 37.927268981933594, 0.383281...  "
            ],
            "text/html": [
              "\n",
              "  <div id=\"df-d7ae2ce0-5832-4cc6-97f6-54b7843ab7f3\">\n",
              "    <div class=\"colab-df-container\">\n",
              "      <div>\n",
              "<style scoped>\n",
              "    .dataframe tbody tr th:only-of-type {\n",
              "        vertical-align: middle;\n",
              "    }\n",
              "\n",
              "    .dataframe tbody tr th {\n",
              "        vertical-align: top;\n",
              "    }\n",
              "\n",
              "    .dataframe thead th {\n",
              "        text-align: right;\n",
              "    }\n",
              "</style>\n",
              "<table border=\"1\" class=\"dataframe\">\n",
              "  <thead>\n",
              "    <tr style=\"text-align: right;\">\n",
              "      <th></th>\n",
              "      <th>Modality</th>\n",
              "      <th>Vocal Channel</th>\n",
              "      <th>Emotion</th>\n",
              "      <th>Intensity</th>\n",
              "      <th>Statement</th>\n",
              "      <th>Repetition</th>\n",
              "      <th>Actor_ID</th>\n",
              "      <th>Features</th>\n",
              "    </tr>\n",
              "  </thead>\n",
              "  <tbody>\n",
              "    <tr>\n",
              "      <th>0</th>\n",
              "      <td>audio-only</td>\n",
              "      <td>speech</td>\n",
              "      <td>happy</td>\n",
              "      <td>strong</td>\n",
              "      <td>\"Dogs are sitting by the door\"</td>\n",
              "      <td>2nd repetition</td>\n",
              "      <td>14.wav</td>\n",
              "      <td>[-486.71234130859375, 31.76954460144043, -27.6...</td>\n",
              "    </tr>\n",
              "    <tr>\n",
              "      <th>1</th>\n",
              "      <td>audio-only</td>\n",
              "      <td>speech</td>\n",
              "      <td>sad</td>\n",
              "      <td>normal</td>\n",
              "      <td>\"Kids are talking by the door\"</td>\n",
              "      <td>2nd repetition</td>\n",
              "      <td>14.wav</td>\n",
              "      <td>[-724.6514282226562, 55.71769714355469, 4.6227...</td>\n",
              "    </tr>\n",
              "    <tr>\n",
              "      <th>2</th>\n",
              "      <td>audio-only</td>\n",
              "      <td>speech</td>\n",
              "      <td>angry</td>\n",
              "      <td>strong</td>\n",
              "      <td>\"Kids are talking by the door\"</td>\n",
              "      <td>2nd repetition</td>\n",
              "      <td>14.wav</td>\n",
              "      <td>[-425.3967590332031, 45.91071701049805, -28.68...</td>\n",
              "    </tr>\n",
              "    <tr>\n",
              "      <th>3</th>\n",
              "      <td>audio-only</td>\n",
              "      <td>speech</td>\n",
              "      <td>surprised</td>\n",
              "      <td>strong</td>\n",
              "      <td>\"Dogs are sitting by the door\"</td>\n",
              "      <td>2nd repetition</td>\n",
              "      <td>14.wav</td>\n",
              "      <td>[-625.5650024414062, 37.601566314697266, -3.69...</td>\n",
              "    </tr>\n",
              "    <tr>\n",
              "      <th>4</th>\n",
              "      <td>audio-only</td>\n",
              "      <td>speech</td>\n",
              "      <td>calm</td>\n",
              "      <td>normal</td>\n",
              "      <td>\"Dogs are sitting by the door\"</td>\n",
              "      <td>1st repetition</td>\n",
              "      <td>14.wav</td>\n",
              "      <td>[-744.2587890625, 37.927268981933594, 0.383281...</td>\n",
              "    </tr>\n",
              "  </tbody>\n",
              "</table>\n",
              "</div>\n",
              "      <button class=\"colab-df-convert\" onclick=\"convertToInteractive('df-d7ae2ce0-5832-4cc6-97f6-54b7843ab7f3')\"\n",
              "              title=\"Convert this dataframe to an interactive table.\"\n",
              "              style=\"display:none;\">\n",
              "        \n",
              "  <svg xmlns=\"http://www.w3.org/2000/svg\" height=\"24px\"viewBox=\"0 0 24 24\"\n",
              "       width=\"24px\">\n",
              "    <path d=\"M0 0h24v24H0V0z\" fill=\"none\"/>\n",
              "    <path d=\"M18.56 5.44l.94 2.06.94-2.06 2.06-.94-2.06-.94-.94-2.06-.94 2.06-2.06.94zm-11 1L8.5 8.5l.94-2.06 2.06-.94-2.06-.94L8.5 2.5l-.94 2.06-2.06.94zm10 10l.94 2.06.94-2.06 2.06-.94-2.06-.94-.94-2.06-.94 2.06-2.06.94z\"/><path d=\"M17.41 7.96l-1.37-1.37c-.4-.4-.92-.59-1.43-.59-.52 0-1.04.2-1.43.59L10.3 9.45l-7.72 7.72c-.78.78-.78 2.05 0 2.83L4 21.41c.39.39.9.59 1.41.59.51 0 1.02-.2 1.41-.59l7.78-7.78 2.81-2.81c.8-.78.8-2.07 0-2.86zM5.41 20L4 18.59l7.72-7.72 1.47 1.35L5.41 20z\"/>\n",
              "  </svg>\n",
              "      </button>\n",
              "      \n",
              "  <style>\n",
              "    .colab-df-container {\n",
              "      display:flex;\n",
              "      flex-wrap:wrap;\n",
              "      gap: 12px;\n",
              "    }\n",
              "\n",
              "    .colab-df-convert {\n",
              "      background-color: #E8F0FE;\n",
              "      border: none;\n",
              "      border-radius: 50%;\n",
              "      cursor: pointer;\n",
              "      display: none;\n",
              "      fill: #1967D2;\n",
              "      height: 32px;\n",
              "      padding: 0 0 0 0;\n",
              "      width: 32px;\n",
              "    }\n",
              "\n",
              "    .colab-df-convert:hover {\n",
              "      background-color: #E2EBFA;\n",
              "      box-shadow: 0px 1px 2px rgba(60, 64, 67, 0.3), 0px 1px 3px 1px rgba(60, 64, 67, 0.15);\n",
              "      fill: #174EA6;\n",
              "    }\n",
              "\n",
              "    [theme=dark] .colab-df-convert {\n",
              "      background-color: #3B4455;\n",
              "      fill: #D2E3FC;\n",
              "    }\n",
              "\n",
              "    [theme=dark] .colab-df-convert:hover {\n",
              "      background-color: #434B5C;\n",
              "      box-shadow: 0px 1px 3px 1px rgba(0, 0, 0, 0.15);\n",
              "      filter: drop-shadow(0px 1px 2px rgba(0, 0, 0, 0.3));\n",
              "      fill: #FFFFFF;\n",
              "    }\n",
              "  </style>\n",
              "\n",
              "      <script>\n",
              "        const buttonEl =\n",
              "          document.querySelector('#df-d7ae2ce0-5832-4cc6-97f6-54b7843ab7f3 button.colab-df-convert');\n",
              "        buttonEl.style.display =\n",
              "          google.colab.kernel.accessAllowed ? 'block' : 'none';\n",
              "\n",
              "        async function convertToInteractive(key) {\n",
              "          const element = document.querySelector('#df-d7ae2ce0-5832-4cc6-97f6-54b7843ab7f3');\n",
              "          const dataTable =\n",
              "            await google.colab.kernel.invokeFunction('convertToInteractive',\n",
              "                                                     [key], {});\n",
              "          if (!dataTable) return;\n",
              "\n",
              "          const docLinkHtml = 'Like what you see? Visit the ' +\n",
              "            '<a target=\"_blank\" href=https://colab.research.google.com/notebooks/data_table.ipynb>data table notebook</a>'\n",
              "            + ' to learn more about interactive tables.';\n",
              "          element.innerHTML = '';\n",
              "          dataTable['output_type'] = 'display_data';\n",
              "          await google.colab.output.renderOutput(dataTable, element);\n",
              "          const docLink = document.createElement('div');\n",
              "          docLink.innerHTML = docLinkHtml;\n",
              "          element.appendChild(docLink);\n",
              "        }\n",
              "      </script>\n",
              "    </div>\n",
              "  </div>\n",
              "  "
            ]
          },
          "metadata": {},
          "execution_count": 8
        }
      ],
      "source": [
        "# Carga de datos desde Kaggle\n",
        "data = load_data()\n",
        "\n",
        "#save_pkl(data)\n",
        "\n",
        "# Carga de datos procesados desde pkl\n",
        "#data = load_pkl()\n",
        "\n",
        "# Usar eventualmente\n",
        "#train_test_split(np.array(X), y, test_size=0.3, random_state=42)\n",
        "\n",
        "data.head()"
      ]
    },
    {
      "cell_type": "markdown",
      "source": [
        "## Informacion relevante"
      ],
      "metadata": {
        "id": "A2ZWTnugFqGY"
      }
    },
    {
      "cell_type": "code",
      "source": [
        "import seaborn as sns\n",
        "from matplotlib import pyplot as plt\n",
        "\n",
        "sns.set()\n",
        "\n",
        "fig, axes = plt.subplots(1, 1, sharex=True, figsize=(5,5))\n",
        "fig.suptitle('Muestras de audio por emocion RAVDESS')\n",
        "chart = sns.countplot(x=\"Emotion\", data=data)\n",
        "chart.set_xticklabels(chart.get_xticklabels(), rotation=45)\n",
        "\n",
        "plt.show()"
      ],
      "metadata": {
        "id": "K64wMzgJFtXB",
        "colab": {
          "base_uri": "https://localhost:8080/",
          "height": 409
        },
        "outputId": "bb123649-ca8d-465e-efec-e69ffde1e381"
      },
      "execution_count": null,
      "outputs": [
        {
          "output_type": "display_data",
          "data": {
            "text/plain": [
              "<Figure size 360x360 with 1 Axes>"
            ],
            "image/png": "[encoded data removed]"
          },
          "metadata": {}
        }
      ]
    },
    {
      "cell_type": "markdown",
      "source": [
        "# Importaciones necesarias para crear los modelos"
      ],
      "metadata": {
        "id": "GMz9RD1o4ehg"
      }
    },
    {
      "cell_type": "code",
      "source": [
        "import keras\n",
        "from keras import Sequential\n",
        "from keras.layers import Dropout, MaxPool1D, Flatten, Dense, ReLU, Input, BatchNormalization, Softmax\n",
        "from keras.layers.convolutional import Conv1D"
      ],
      "metadata": {
        "id": "7jPJfFJL4neP"
      },
      "execution_count": null,
      "outputs": []
    },
    {
      "cell_type": "markdown",
      "source": [
        "# Baseline topology replication"
      ],
      "metadata": {
        "id": "i4irKS14vWyc"
      }
    },
    {
      "cell_type": "code",
      "source": [
        "from keras.layers.advanced_activations import Softmax\n",
        "def build_baseline():\n",
        "  model = Sequential()\n",
        "\n",
        "  # input layer\n",
        "  model.add(Input(shape=(193, 1)))\n",
        "  \n",
        "  # Primer Convolutional layer\n",
        "  model.add(Conv1D(strides=1, filters=255, kernel_size=5))\n",
        "  model.add(BatchNormalization())\n",
        "  model.add(ReLU())\n",
        "\n",
        "  # Segund Convolutional layer\n",
        "  model.add(Conv1D(strides=1, filters=128, kernel_size=5))\n",
        "  model.add(ReLU())\n",
        "  model.add(Dropout(rate=0.1))\n",
        "  model.add(BatchNormalization())\n",
        "\n",
        "  # Capa de Maxpooling\n",
        "  model.add(MaxPool1D(pool_size=8))\n",
        "\n",
        "  # 3 capas convolucionales intermedias\n",
        "  model.add(Conv1D(strides=1, filters=128, kernel_size=5))\n",
        "  model.add(ReLU())\n",
        "\n",
        "  model.add(Conv1D(strides=1, filters=128, kernel_size=5))\n",
        "  model.add(ReLU())\n",
        "\n",
        "  model.add(Conv1D(strides=1, filters=128, kernel_size=5))\n",
        "  model.add(BatchNormalization())\n",
        "  model.add(ReLU())\n",
        "  model.add(Dropout(rate=0.2))\n",
        "\n",
        "  # Capa convolucional final\n",
        "  model.add(Conv1D(strides=1, filters=128, kernel_size=5))\n",
        "  model.add(Flatten())\n",
        "  model.add(Dropout(rate=0.2))\n",
        "\n",
        "  # Capa densa, tiene la misma cantidad de neuronas que de clases a predecir\n",
        "  model.add(Dense(units=8))\n",
        "  model.add(BatchNormalization())\n",
        "  model.add(Softmax())\n",
        "  \n",
        "  return model"
      ],
      "metadata": {
        "id": "uPswV9V2vdo0"
      },
      "execution_count": null,
      "outputs": []
    },
    {
      "cell_type": "markdown",
      "source": [
        "## Pruebas del baseline model"
      ],
      "metadata": {
        "id": "leXRvpLTA4i_"
      }
    },
    {
      "cell_type": "code",
      "source": [
        "baseline_cnn = build_baseline()\n",
        "baseline_cnn.summary()"
      ],
      "metadata": {
        "id": "nKCeCFSzyIMk"
      },
      "execution_count": null,
      "outputs": []
    }
  ],
  "metadata": {
    "accelerator": "GPU",
    "colab": {
      "collapsed_sections": [],
      "name": "Prueba de concepto RAVDESS.ipynb",
      "provenance": [],
      "authorship_tag": "ABX9TyMs6VTmDoi/5bZzZc6bRAVj",
      "include_colab_link": true
    },
    "kernelspec": {
      "display_name": "Python 3",
      "name": "python3"
    },
    "language_info": {
      "name": "python"
    }
  },
  "nbformat": 4,
  "nbformat_minor": 0
}